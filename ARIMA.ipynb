{
  "cells": [
    {
      "cell_type": "markdown",
      "source": [
        "Pmdarima is a statistical library designed to fill teh void in Pyhon's TS analysis capabilities."
      ],
      "metadata": {
        "id": "02-Ga8Sc6unI"
      }
    },
    {
      "cell_type": "code",
      "source": [
        "pip install pmdarima"
      ],
      "metadata": {
        "colab": {
          "base_uri": "https://localhost:8080/"
        },
        "id": "w8Zk04-300ic",
        "outputId": "69ffd9ad-ccd4-469d-c520-f530498b4aa3"
      },
      "execution_count": null,
      "outputs": [
        {
          "output_type": "stream",
          "name": "stdout",
          "text": [
            "Looking in indexes: https://pypi.org/simple, https://us-python.pkg.dev/colab-wheels/public/simple/\n",
            "Requirement already satisfied: pmdarima in /usr/local/lib/python3.8/dist-packages (2.0.2)\n",
            "Requirement already satisfied: scikit-learn>=0.22 in /usr/local/lib/python3.8/dist-packages (from pmdarima) (1.0.2)\n",
            "Requirement already satisfied: numpy>=1.21.2 in /usr/local/lib/python3.8/dist-packages (from pmdarima) (1.21.6)\n",
            "Requirement already satisfied: pandas>=0.19 in /usr/local/lib/python3.8/dist-packages (from pmdarima) (1.3.5)\n",
            "Requirement already satisfied: urllib3 in /usr/local/lib/python3.8/dist-packages (from pmdarima) (1.24.3)\n",
            "Requirement already satisfied: setuptools!=50.0.0,>=38.6.0 in /usr/local/lib/python3.8/dist-packages (from pmdarima) (57.4.0)\n",
            "Requirement already satisfied: Cython!=0.29.18,!=0.29.31,>=0.29 in /usr/local/lib/python3.8/dist-packages (from pmdarima) (0.29.32)\n",
            "Requirement already satisfied: scipy>=1.3.2 in /usr/local/lib/python3.8/dist-packages (from pmdarima) (1.7.3)\n",
            "Requirement already satisfied: joblib>=0.11 in /usr/local/lib/python3.8/dist-packages (from pmdarima) (1.2.0)\n",
            "Requirement already satisfied: statsmodels>=0.13.2 in /usr/local/lib/python3.8/dist-packages (from pmdarima) (0.13.5)\n",
            "Requirement already satisfied: python-dateutil>=2.7.3 in /usr/local/lib/python3.8/dist-packages (from pandas>=0.19->pmdarima) (2.8.2)\n",
            "Requirement already satisfied: pytz>=2017.3 in /usr/local/lib/python3.8/dist-packages (from pandas>=0.19->pmdarima) (2022.6)\n",
            "Requirement already satisfied: six>=1.5 in /usr/local/lib/python3.8/dist-packages (from python-dateutil>=2.7.3->pandas>=0.19->pmdarima) (1.15.0)\n",
            "Requirement already satisfied: threadpoolctl>=2.0.0 in /usr/local/lib/python3.8/dist-packages (from scikit-learn>=0.22->pmdarima) (3.1.0)\n",
            "Requirement already satisfied: patsy>=0.5.2 in /usr/local/lib/python3.8/dist-packages (from statsmodels>=0.13.2->pmdarima) (0.5.3)\n",
            "Requirement already satisfied: packaging>=21.3 in /usr/local/lib/python3.8/dist-packages (from statsmodels>=0.13.2->pmdarima) (21.3)\n",
            "Requirement already satisfied: pyparsing!=3.0.5,>=2.0.2 in /usr/local/lib/python3.8/dist-packages (from packaging>=21.3->statsmodels>=0.13.2->pmdarima) (3.0.9)\n"
          ]
        }
      ]
    },
    {
      "cell_type": "code",
      "execution_count": null,
      "metadata": {
        "ExecuteTime": {
          "end_time": "2020-01-19T06:49:39.576020Z",
          "start_time": "2020-01-19T06:49:39.570064Z"
        },
        "id": "k3vGcS_6zYxz"
      },
      "outputs": [],
      "source": [
        "import warnings\n",
        "\n",
        "import matplotlib.pyplot as plt\n",
        "import numpy as np\n",
        "import pandas as pd\n",
        "import statsmodels.api as sm\n",
        "from pmdarima import auto_arima\n",
        "from sklearn import metrics\n",
        "from statsmodels.tsa.seasonal import seasonal_decompose\n",
        "from statsmodels.tsa.stattools import adfuller\n",
        "\n",
        "warnings.filterwarnings(\"ignore\")"
      ]
    },
    {
      "cell_type": "code",
      "execution_count": null,
      "metadata": {
        "ExecuteTime": {
          "end_time": "2020-01-19T06:49:41.083280Z",
          "start_time": "2020-01-19T06:49:41.072305Z"
        },
        "id": "SdxzRE6DzYx0"
      },
      "outputs": [],
      "source": [
        "df = pd.read_csv(r'JPM.csv', parse_dates = True)"
      ]
    },
    {
      "cell_type": "code",
      "execution_count": null,
      "metadata": {
        "ExecuteTime": {
          "end_time": "2020-01-19T06:49:41.885132Z",
          "start_time": "2020-01-19T06:49:41.873130Z"
        },
        "scrolled": true,
        "colab": {
          "base_uri": "https://localhost:8080/",
          "height": 363
        },
        "id": "KspKl7GszYx0",
        "outputId": "ebb95913-ef7d-423a-8017-ed00a2a988da"
      },
      "outputs": [
        {
          "output_type": "execute_result",
          "data": {
            "text/plain": [
              "         Date  Open      High       Low     Close  Adj Close  Volume\n",
              "0  1980-03-17   0.0  5.129630  5.018519  5.037037   1.122904   62775\n",
              "1  1980-03-18   0.0  5.111111  5.037037  5.074074   1.131161   64125\n",
              "2  1980-03-19   0.0  5.166667  5.111111  5.148148   1.147674   40500\n",
              "3  1980-03-20   0.0  5.148148  5.092593  5.111111   1.139418   18900\n",
              "4  1980-03-21   0.0  5.222222  5.111111  5.222222   1.164188   97200\n",
              "5  1980-03-24   0.0  5.185185  5.092593  5.092593   1.135290   90450\n",
              "6  1980-03-25   0.0  5.111111  5.055556  5.074074   1.131161   72225\n",
              "7  1980-03-26   0.0  5.148148  5.037037  5.111111   1.139418   31725\n",
              "8  1980-03-27   0.0  5.092593  4.925926  5.074074   1.131161   62100\n",
              "9  1980-03-28   0.0  5.074074  4.925926  5.018519   1.118777   84375"
            ],
            "text/html": [
              "\n",
              "  <div id=\"df-4eeafa5e-ae7d-4cf4-8d9b-60ef2f8487a7\">\n",
              "    <div class=\"colab-df-container\">\n",
              "      <div>\n",
              "<style scoped>\n",
              "    .dataframe tbody tr th:only-of-type {\n",
              "        vertical-align: middle;\n",
              "    }\n",
              "\n",
              "    .dataframe tbody tr th {\n",
              "        vertical-align: top;\n",
              "    }\n",
              "\n",
              "    .dataframe thead th {\n",
              "        text-align: right;\n",
              "    }\n",
              "</style>\n",
              "<table border=\"1\" class=\"dataframe\">\n",
              "  <thead>\n",
              "    <tr style=\"text-align: right;\">\n",
              "      <th></th>\n",
              "      <th>Date</th>\n",
              "      <th>Open</th>\n",
              "      <th>High</th>\n",
              "      <th>Low</th>\n",
              "      <th>Close</th>\n",
              "      <th>Adj Close</th>\n",
              "      <th>Volume</th>\n",
              "    </tr>\n",
              "  </thead>\n",
              "  <tbody>\n",
              "    <tr>\n",
              "      <th>0</th>\n",
              "      <td>1980-03-17</td>\n",
              "      <td>0.0</td>\n",
              "      <td>5.129630</td>\n",
              "      <td>5.018519</td>\n",
              "      <td>5.037037</td>\n",
              "      <td>1.122904</td>\n",
              "      <td>62775</td>\n",
              "    </tr>\n",
              "    <tr>\n",
              "      <th>1</th>\n",
              "      <td>1980-03-18</td>\n",
              "      <td>0.0</td>\n",
              "      <td>5.111111</td>\n",
              "      <td>5.037037</td>\n",
              "      <td>5.074074</td>\n",
              "      <td>1.131161</td>\n",
              "      <td>64125</td>\n",
              "    </tr>\n",
              "    <tr>\n",
              "      <th>2</th>\n",
              "      <td>1980-03-19</td>\n",
              "      <td>0.0</td>\n",
              "      <td>5.166667</td>\n",
              "      <td>5.111111</td>\n",
              "      <td>5.148148</td>\n",
              "      <td>1.147674</td>\n",
              "      <td>40500</td>\n",
              "    </tr>\n",
              "    <tr>\n",
              "      <th>3</th>\n",
              "      <td>1980-03-20</td>\n",
              "      <td>0.0</td>\n",
              "      <td>5.148148</td>\n",
              "      <td>5.092593</td>\n",
              "      <td>5.111111</td>\n",
              "      <td>1.139418</td>\n",
              "      <td>18900</td>\n",
              "    </tr>\n",
              "    <tr>\n",
              "      <th>4</th>\n",
              "      <td>1980-03-21</td>\n",
              "      <td>0.0</td>\n",
              "      <td>5.222222</td>\n",
              "      <td>5.111111</td>\n",
              "      <td>5.222222</td>\n",
              "      <td>1.164188</td>\n",
              "      <td>97200</td>\n",
              "    </tr>\n",
              "    <tr>\n",
              "      <th>5</th>\n",
              "      <td>1980-03-24</td>\n",
              "      <td>0.0</td>\n",
              "      <td>5.185185</td>\n",
              "      <td>5.092593</td>\n",
              "      <td>5.092593</td>\n",
              "      <td>1.135290</td>\n",
              "      <td>90450</td>\n",
              "    </tr>\n",
              "    <tr>\n",
              "      <th>6</th>\n",
              "      <td>1980-03-25</td>\n",
              "      <td>0.0</td>\n",
              "      <td>5.111111</td>\n",
              "      <td>5.055556</td>\n",
              "      <td>5.074074</td>\n",
              "      <td>1.131161</td>\n",
              "      <td>72225</td>\n",
              "    </tr>\n",
              "    <tr>\n",
              "      <th>7</th>\n",
              "      <td>1980-03-26</td>\n",
              "      <td>0.0</td>\n",
              "      <td>5.148148</td>\n",
              "      <td>5.037037</td>\n",
              "      <td>5.111111</td>\n",
              "      <td>1.139418</td>\n",
              "      <td>31725</td>\n",
              "    </tr>\n",
              "    <tr>\n",
              "      <th>8</th>\n",
              "      <td>1980-03-27</td>\n",
              "      <td>0.0</td>\n",
              "      <td>5.092593</td>\n",
              "      <td>4.925926</td>\n",
              "      <td>5.074074</td>\n",
              "      <td>1.131161</td>\n",
              "      <td>62100</td>\n",
              "    </tr>\n",
              "    <tr>\n",
              "      <th>9</th>\n",
              "      <td>1980-03-28</td>\n",
              "      <td>0.0</td>\n",
              "      <td>5.074074</td>\n",
              "      <td>4.925926</td>\n",
              "      <td>5.018519</td>\n",
              "      <td>1.118777</td>\n",
              "      <td>84375</td>\n",
              "    </tr>\n",
              "  </tbody>\n",
              "</table>\n",
              "</div>\n",
              "      <button class=\"colab-df-convert\" onclick=\"convertToInteractive('df-4eeafa5e-ae7d-4cf4-8d9b-60ef2f8487a7')\"\n",
              "              title=\"Convert this dataframe to an interactive table.\"\n",
              "              style=\"display:none;\">\n",
              "        \n",
              "  <svg xmlns=\"http://www.w3.org/2000/svg\" height=\"24px\"viewBox=\"0 0 24 24\"\n",
              "       width=\"24px\">\n",
              "    <path d=\"M0 0h24v24H0V0z\" fill=\"none\"/>\n",
              "    <path d=\"M18.56 5.44l.94 2.06.94-2.06 2.06-.94-2.06-.94-.94-2.06-.94 2.06-2.06.94zm-11 1L8.5 8.5l.94-2.06 2.06-.94-2.06-.94L8.5 2.5l-.94 2.06-2.06.94zm10 10l.94 2.06.94-2.06 2.06-.94-2.06-.94-.94-2.06-.94 2.06-2.06.94z\"/><path d=\"M17.41 7.96l-1.37-1.37c-.4-.4-.92-.59-1.43-.59-.52 0-1.04.2-1.43.59L10.3 9.45l-7.72 7.72c-.78.78-.78 2.05 0 2.83L4 21.41c.39.39.9.59 1.41.59.51 0 1.02-.2 1.41-.59l7.78-7.78 2.81-2.81c.8-.78.8-2.07 0-2.86zM5.41 20L4 18.59l7.72-7.72 1.47 1.35L5.41 20z\"/>\n",
              "  </svg>\n",
              "      </button>\n",
              "      \n",
              "  <style>\n",
              "    .colab-df-container {\n",
              "      display:flex;\n",
              "      flex-wrap:wrap;\n",
              "      gap: 12px;\n",
              "    }\n",
              "\n",
              "    .colab-df-convert {\n",
              "      background-color: #E8F0FE;\n",
              "      border: none;\n",
              "      border-radius: 50%;\n",
              "      cursor: pointer;\n",
              "      display: none;\n",
              "      fill: #1967D2;\n",
              "      height: 32px;\n",
              "      padding: 0 0 0 0;\n",
              "      width: 32px;\n",
              "    }\n",
              "\n",
              "    .colab-df-convert:hover {\n",
              "      background-color: #E2EBFA;\n",
              "      box-shadow: 0px 1px 2px rgba(60, 64, 67, 0.3), 0px 1px 3px 1px rgba(60, 64, 67, 0.15);\n",
              "      fill: #174EA6;\n",
              "    }\n",
              "\n",
              "    [theme=dark] .colab-df-convert {\n",
              "      background-color: #3B4455;\n",
              "      fill: #D2E3FC;\n",
              "    }\n",
              "\n",
              "    [theme=dark] .colab-df-convert:hover {\n",
              "      background-color: #434B5C;\n",
              "      box-shadow: 0px 1px 3px 1px rgba(0, 0, 0, 0.15);\n",
              "      filter: drop-shadow(0px 1px 2px rgba(0, 0, 0, 0.3));\n",
              "      fill: #FFFFFF;\n",
              "    }\n",
              "  </style>\n",
              "\n",
              "      <script>\n",
              "        const buttonEl =\n",
              "          document.querySelector('#df-4eeafa5e-ae7d-4cf4-8d9b-60ef2f8487a7 button.colab-df-convert');\n",
              "        buttonEl.style.display =\n",
              "          google.colab.kernel.accessAllowed ? 'block' : 'none';\n",
              "\n",
              "        async function convertToInteractive(key) {\n",
              "          const element = document.querySelector('#df-4eeafa5e-ae7d-4cf4-8d9b-60ef2f8487a7');\n",
              "          const dataTable =\n",
              "            await google.colab.kernel.invokeFunction('convertToInteractive',\n",
              "                                                     [key], {});\n",
              "          if (!dataTable) return;\n",
              "\n",
              "          const docLinkHtml = 'Like what you see? Visit the ' +\n",
              "            '<a target=\"_blank\" href=https://colab.research.google.com/notebooks/data_table.ipynb>data table notebook</a>'\n",
              "            + ' to learn more about interactive tables.';\n",
              "          element.innerHTML = '';\n",
              "          dataTable['output_type'] = 'display_data';\n",
              "          await google.colab.output.renderOutput(dataTable, element);\n",
              "          const docLink = document.createElement('div');\n",
              "          docLink.innerHTML = docLinkHtml;\n",
              "          element.appendChild(docLink);\n",
              "        }\n",
              "      </script>\n",
              "    </div>\n",
              "  </div>\n",
              "  "
            ]
          },
          "metadata": {},
          "execution_count": 4
        }
      ],
      "source": [
        "df.head(10)"
      ]
    },
    {
      "cell_type": "markdown",
      "source": [
        "Perform Exploratory Data Analysis using line, histogram and kernel density estimation (KDE) of the closing price of the stocks. EDA is the process of using a graphical representation to discover and investigate patterns within data.\n"
      ],
      "metadata": {
        "id": "N9O0LaRA1wQO"
      }
    },
    {
      "cell_type": "code",
      "execution_count": null,
      "metadata": {
        "ExecuteTime": {
          "end_time": "2020-01-19T06:49:43.780428Z",
          "start_time": "2020-01-19T06:49:43.560045Z"
        },
        "colab": {
          "base_uri": "https://localhost:8080/",
          "height": 404
        },
        "id": "S_7j21TFzYx1",
        "outputId": "c0eba87f-5a16-4376-bebb-456d5a36eec6"
      },
      "outputs": [
        {
          "output_type": "display_data",
          "data": {
            "text/plain": [
              "<Figure size 1080x432 with 1 Axes>"
            ],
            "image/png": "[encoded data removed]"
          },
          "metadata": {
            "needs_background": "light"
          }
        }
      ],
      "source": [
        "df[\"Close\"].plot(figsize=(15, 6))\n",
        "plt.xlabel(\"Date\")\n",
        "plt.ylabel(\"Close\")\n",
        "plt.title(\"Closing price of JP Morgan stocks\")\n",
        "plt.show()"
      ]
    },
    {
      "cell_type": "markdown",
      "source": [
        "KDE is a nonparametric way to estimate the probability density function (PDF) of a random variable."
      ],
      "metadata": {
        "id": "VdZ6RXcB7G53"
      }
    },
    {
      "cell_type": "code",
      "execution_count": null,
      "metadata": {
        "ExecuteTime": {
          "end_time": "2020-01-19T06:49:47.200266Z",
          "start_time": "2020-01-19T06:49:46.817255Z"
        },
        "colab": {
          "base_uri": "https://localhost:8080/",
          "height": 374
        },
        "id": "J-TCOKLEzYx1",
        "outputId": "56aefe88-37ec-40dd-8b34-2e35f3ccdb2d"
      },
      "outputs": [
        {
          "output_type": "display_data",
          "data": {
            "text/plain": [
              "<Figure size 1080x432 with 2 Axes>"
            ],
            "image/png": "[encoded data removed]"
          },
          "metadata": {
            "needs_background": "light"
          }
        }
      ],
      "source": [
        "plt.figure(1, figsize=(15,6))\n",
        "plt.subplot(211)\n",
        "df[\"Close\"].hist()\n",
        "plt.subplot(212)\n",
        "df[\"Close\"].plot(kind='kde')\n",
        "plt.show()"
      ]
    },
    {
      "cell_type": "markdown",
      "source": [
        "Define the TS evaluation function."
      ],
      "metadata": {
        "id": "L97Ig2We2Oyn"
      }
    },
    {
      "cell_type": "code",
      "execution_count": null,
      "metadata": {
        "ExecuteTime": {
          "end_time": "2020-01-19T06:49:49.918782Z",
          "start_time": "2020-01-19T06:49:49.912799Z"
        },
        "id": "OmXpyUpyzYx1"
      },
      "outputs": [],
      "source": [
        "def timeseries_evaluation_metrics_func(y_true, y_pred):\n",
        "\n",
        "    def mean_absolute_percentage_error(y_true, y_pred):\n",
        "        y_true, y_pred = np.array(y_true), np.array(y_pred)\n",
        "        return np.mean(np.abs((y_true - y_pred) / y_true)) * 100\n",
        "    print('Evaluation metric results:-')\n",
        "    print(f'MSE is : {metrics.mean_squared_error(y_true, y_pred)}')\n",
        "    print(f'MAE is : {metrics.mean_absolute_error(y_true, y_pred)}')\n",
        "    print(f'RMSE is : {np.sqrt(metrics.mean_squared_error(y_true, y_pred))}')\n",
        "    print(f'MAPE is : {mean_absolute_percentage_error(y_true, y_pred)}')\n",
        "    print(f'R2 is : {metrics.r2_score(y_true, y_pred)}',end='\\n\\n')"
      ]
    },
    {
      "cell_type": "markdown",
      "source": [
        "ADF test function to check for stationary data."
      ],
      "metadata": {
        "id": "lJHW17ph2TDW"
      }
    },
    {
      "cell_type": "code",
      "execution_count": null,
      "metadata": {
        "ExecuteTime": {
          "end_time": "2020-01-19T06:49:52.258902Z",
          "start_time": "2020-01-19T06:49:52.251955Z"
        },
        "id": "pe9DuifdzYx2"
      },
      "outputs": [],
      "source": [
        "def Augmented_Dickey_Fuller_Test_func(series , column_name):\n",
        "    print (f'Results of Dickey-Fuller Test for column: {column_name}')\n",
        "    dftest = adfuller(series, autolag='AIC')\n",
        "    dfoutput = pd.Series(dftest[0:4], index=['Test Statistic','p-value','No Lags Used','Number of Observations Used'])\n",
        "    for key,value in dftest[4].items():\n",
        "       dfoutput['Critical Value (%s)'%key] = value\n",
        "    print (dfoutput)\n",
        "    if dftest[1] <= 0.05:\n",
        "        print(\"Conclusion:====>\")\n",
        "        print(\"Reject the null hypothesis\")\n",
        "        print(\"Data is stationary\")\n",
        "    else:\n",
        "        print(\"Conclusion:====>\")\n",
        "        print(\"Fail to reject the null hypothesis\")\n",
        "        print(\"Data is non-stationary\")"
      ]
    },
    {
      "cell_type": "code",
      "execution_count": null,
      "metadata": {
        "ExecuteTime": {
          "end_time": "2020-01-19T06:49:53.835083Z",
          "start_time": "2020-01-19T06:49:53.791203Z"
        },
        "colab": {
          "base_uri": "https://localhost:8080/"
        },
        "id": "nWmr8Wz8zYx2",
        "outputId": "f65c60b3-426d-48a9-d84f-7d179a86d625"
      },
      "outputs": [
        {
          "output_type": "stream",
          "name": "stdout",
          "text": [
            "Results of Dickey-Fuller Test for column: Close\n",
            "Test Statistic                    -0.324347\n",
            "p-value                            0.921985\n",
            "No Lags Used                      39.000000\n",
            "Number of Observations Used    10719.000000\n",
            "Critical Value (1%)               -3.430960\n",
            "Critical Value (5%)               -2.861810\n",
            "Critical Value (10%)              -2.566914\n",
            "dtype: float64\n",
            "Conclusion:====>\n",
            "Fail to reject the null hypothesis\n",
            "Data is non-stationary\n"
          ]
        }
      ],
      "source": [
        "Augmented_Dickey_Fuller_Test_func(df['Close' ],'Close')"
      ]
    },
    {
      "cell_type": "markdown",
      "source": [
        "Close is non-stationary and auto-arima handles this internally."
      ],
      "metadata": {
        "id": "kHThL1nx2d7g"
      }
    },
    {
      "cell_type": "markdown",
      "source": [
        "Model training will be done only for the Close column from the dataset. Make a copy of the data and perform the test/train split.\n",
        "\n",
        "The train will have all the data except the last 30 days and test will contain only the last 30 days to evaluate against predictions."
      ],
      "metadata": {
        "id": "qh53m-NO2lqx"
      }
    },
    {
      "cell_type": "code",
      "execution_count": null,
      "metadata": {
        "ExecuteTime": {
          "end_time": "2020-01-19T06:49:54.746018Z",
          "start_time": "2020-01-19T06:49:54.739034Z"
        },
        "id": "xe2_ln2izYx2"
      },
      "outputs": [],
      "source": [
        "X = df[['Close' ]]\n",
        "train, test = X[0:-30], X[-30:]"
      ]
    },
    {
      "cell_type": "markdown",
      "source": [
        "The pmdarima modeule will help us to identify p, d, q without the hassle of looking at the plot."
      ],
      "metadata": {
        "id": "20CMO9Yd3DNp"
      }
    },
    {
      "cell_type": "code",
      "execution_count": null,
      "metadata": {
        "ExecuteTime": {
          "end_time": "2020-01-19T06:49:58.152265Z",
          "start_time": "2020-01-19T06:49:57.394292Z"
        },
        "colab": {
          "base_uri": "https://localhost:8080/"
        },
        "id": "AUnVp1U1zYx3",
        "outputId": "af327071-914a-4c79-f85a-16209db88b77"
      },
      "outputs": [
        {
          "output_type": "stream",
          "name": "stdout",
          "text": [
            "Performing stepwise search to minimize aic\n",
            " ARIMA(1,1,1)(0,0,0)[0] intercept   : AIC=31117.011, Time=5.90 sec\n",
            " ARIMA(0,1,0)(0,0,0)[0] intercept   : AIC=31164.583, Time=0.36 sec\n",
            " ARIMA(1,1,0)(0,0,0)[0] intercept   : AIC=31120.618, Time=0.97 sec\n",
            " ARIMA(0,1,1)(0,0,0)[0] intercept   : AIC=31122.923, Time=1.81 sec\n",
            " ARIMA(0,1,0)(0,0,0)[0]             : AIC=31163.502, Time=0.23 sec\n",
            " ARIMA(2,1,1)(0,0,0)[0] intercept   : AIC=31117.636, Time=9.40 sec\n",
            " ARIMA(1,1,2)(0,0,0)[0] intercept   : AIC=31117.296, Time=11.26 sec\n",
            " ARIMA(0,1,2)(0,0,0)[0] intercept   : AIC=31116.350, Time=3.94 sec\n",
            " ARIMA(0,1,3)(0,0,0)[0] intercept   : AIC=31114.785, Time=6.20 sec\n",
            " ARIMA(1,1,3)(0,0,0)[0] intercept   : AIC=31113.636, Time=22.59 sec\n",
            " ARIMA(2,1,3)(0,0,0)[0] intercept   : AIC=31112.600, Time=19.39 sec\n",
            " ARIMA(2,1,2)(0,0,0)[0] intercept   : AIC=31038.913, Time=20.41 sec\n",
            " ARIMA(3,1,2)(0,0,0)[0] intercept   : AIC=31040.702, Time=24.71 sec\n",
            " ARIMA(3,1,1)(0,0,0)[0] intercept   : AIC=31115.417, Time=15.98 sec\n",
            " ARIMA(3,1,3)(0,0,0)[0] intercept   : AIC=31040.210, Time=42.21 sec\n",
            " ARIMA(2,1,2)(0,0,0)[0]             : AIC=31037.911, Time=5.98 sec\n",
            " ARIMA(1,1,2)(0,0,0)[0]             : AIC=31116.290, Time=2.11 sec\n",
            " ARIMA(2,1,1)(0,0,0)[0]             : AIC=31116.633, Time=2.10 sec\n",
            " ARIMA(3,1,2)(0,0,0)[0]             : AIC=31039.692, Time=6.72 sec\n",
            " ARIMA(2,1,3)(0,0,0)[0]             : AIC=31109.128, Time=8.72 sec\n",
            " ARIMA(1,1,1)(0,0,0)[0]             : AIC=31116.031, Time=1.46 sec\n",
            " ARIMA(1,1,3)(0,0,0)[0]             : AIC=31112.710, Time=5.62 sec\n",
            " ARIMA(3,1,1)(0,0,0)[0]             : AIC=31114.492, Time=4.87 sec\n",
            " ARIMA(3,1,3)(0,0,0)[0]             : AIC=31037.760, Time=11.87 sec\n",
            " ARIMA(4,1,3)(0,0,0)[0]             : AIC=31039.818, Time=10.42 sec\n",
            " ARIMA(3,1,4)(0,0,0)[0]             : AIC=inf, Time=20.15 sec\n",
            " ARIMA(2,1,4)(0,0,0)[0]             : AIC=31038.179, Time=11.34 sec\n",
            " ARIMA(4,1,2)(0,0,0)[0]             : AIC=31038.562, Time=9.64 sec\n",
            " ARIMA(4,1,4)(0,0,0)[0]             : AIC=31039.189, Time=15.23 sec\n",
            "\n",
            "Best model:  ARIMA(3,1,3)(0,0,0)[0]          \n",
            "Total fit time: 301.703 seconds\n"
          ]
        }
      ],
      "source": [
        "\n",
        "stepwise_model = auto_arima(train,start_p=1, start_q=1,\n",
        "    max_p=7, max_q=7, seasonal=False,\n",
        "    d=None, trace=True,error_action='ignore',suppress_warnings=True, stepwise=True)\n"
      ]
    },
    {
      "cell_type": "code",
      "execution_count": null,
      "metadata": {
        "ExecuteTime": {
          "end_time": "2020-01-19T06:50:00.086274Z",
          "start_time": "2020-01-19T06:50:00.024405Z"
        },
        "scrolled": true,
        "colab": {
          "base_uri": "https://localhost:8080/",
          "height": 507
        },
        "id": "uqmS9nKIzYx3",
        "outputId": "f0acd052-205f-43a0-f3bd-0075fe888730"
      },
      "outputs": [
        {
          "output_type": "execute_result",
          "data": {
            "text/plain": [
              "<class 'statsmodels.iolib.summary.Summary'>\n",
              "\"\"\"\n",
              "                               SARIMAX Results                                \n",
              "==============================================================================\n",
              "Dep. Variable:                      y   No. Observations:                10729\n",
              "Model:               SARIMAX(3, 1, 3)   Log Likelihood              -15511.880\n",
              "Date:                Mon, 05 Dec 2022   AIC                          31037.760\n",
              "Time:                        14:26:47   BIC                          31088.724\n",
              "Sample:                             0   HQIC                         31054.951\n",
              "                              - 10729                                         \n",
              "Covariance Type:                  opg                                         \n",
              "==============================================================================\n",
              "                 coef    std err          z      P>|z|      [0.025      0.975]\n",
              "------------------------------------------------------------------------------\n",
              "ar.L1         -0.7332      0.039    -18.677      0.000      -0.810      -0.656\n",
              "ar.L2          0.6677      0.061     10.925      0.000       0.548       0.788\n",
              "ar.L3          0.7555      0.029     25.628      0.000       0.698       0.813\n",
              "ma.L1          0.6679      0.039     17.152      0.000       0.592       0.744\n",
              "ma.L2         -0.6896      0.057    -12.171      0.000      -0.801      -0.579\n",
              "ma.L3         -0.7065      0.026    -27.049      0.000      -0.758      -0.655\n",
              "sigma2         1.0553      0.004    246.213      0.000       1.047       1.064\n",
              "===================================================================================\n",
              "Ljung-Box (L1) (Q):                   0.67   Jarque-Bera (JB):            250919.10\n",
              "Prob(Q):                              0.41   Prob(JB):                         0.00\n",
              "Heteroskedasticity (H):              58.40   Skew:                            -0.12\n",
              "Prob(H) (two-sided):                  0.00   Kurtosis:                        26.69\n",
              "===================================================================================\n",
              "\n",
              "Warnings:\n",
              "[1] Covariance matrix calculated using the outer product of gradients (complex-step).\n",
              "\"\"\""
            ],
            "text/html": [
              "<table class=\"simpletable\">\n",
              "<caption>SARIMAX Results</caption>\n",
              "<tr>\n",
              "  <th>Dep. Variable:</th>           <td>y</td>        <th>  No. Observations:  </th>    <td>10729</td>  \n",
              "</tr>\n",
              "<tr>\n",
              "  <th>Model:</th>           <td>SARIMAX(3, 1, 3)</td> <th>  Log Likelihood     </th> <td>-15511.880</td>\n",
              "</tr>\n",
              "<tr>\n",
              "  <th>Date:</th>            <td>Mon, 05 Dec 2022</td> <th>  AIC                </th>  <td>31037.760</td>\n",
              "</tr>\n",
              "<tr>\n",
              "  <th>Time:</th>                <td>14:26:47</td>     <th>  BIC                </th>  <td>31088.724</td>\n",
              "</tr>\n",
              "<tr>\n",
              "  <th>Sample:</th>                  <td>0</td>        <th>  HQIC               </th>  <td>31054.951</td>\n",
              "</tr>\n",
              "<tr>\n",
              "  <th></th>                     <td> - 10729</td>     <th>                     </th>      <td> </td>    \n",
              "</tr>\n",
              "<tr>\n",
              "  <th>Covariance Type:</th>        <td>opg</td>       <th>                     </th>      <td> </td>    \n",
              "</tr>\n",
              "</table>\n",
              "<table class=\"simpletable\">\n",
              "<tr>\n",
              "     <td></td>       <th>coef</th>     <th>std err</th>      <th>z</th>      <th>P>|z|</th>  <th>[0.025</th>    <th>0.975]</th>  \n",
              "</tr>\n",
              "<tr>\n",
              "  <th>ar.L1</th>  <td>   -0.7332</td> <td>    0.039</td> <td>  -18.677</td> <td> 0.000</td> <td>   -0.810</td> <td>   -0.656</td>\n",
              "</tr>\n",
              "<tr>\n",
              "  <th>ar.L2</th>  <td>    0.6677</td> <td>    0.061</td> <td>   10.925</td> <td> 0.000</td> <td>    0.548</td> <td>    0.788</td>\n",
              "</tr>\n",
              "<tr>\n",
              "  <th>ar.L3</th>  <td>    0.7555</td> <td>    0.029</td> <td>   25.628</td> <td> 0.000</td> <td>    0.698</td> <td>    0.813</td>\n",
              "</tr>\n",
              "<tr>\n",
              "  <th>ma.L1</th>  <td>    0.6679</td> <td>    0.039</td> <td>   17.152</td> <td> 0.000</td> <td>    0.592</td> <td>    0.744</td>\n",
              "</tr>\n",
              "<tr>\n",
              "  <th>ma.L2</th>  <td>   -0.6896</td> <td>    0.057</td> <td>  -12.171</td> <td> 0.000</td> <td>   -0.801</td> <td>   -0.579</td>\n",
              "</tr>\n",
              "<tr>\n",
              "  <th>ma.L3</th>  <td>   -0.7065</td> <td>    0.026</td> <td>  -27.049</td> <td> 0.000</td> <td>   -0.758</td> <td>   -0.655</td>\n",
              "</tr>\n",
              "<tr>\n",
              "  <th>sigma2</th> <td>    1.0553</td> <td>    0.004</td> <td>  246.213</td> <td> 0.000</td> <td>    1.047</td> <td>    1.064</td>\n",
              "</tr>\n",
              "</table>\n",
              "<table class=\"simpletable\">\n",
              "<tr>\n",
              "  <th>Ljung-Box (L1) (Q):</th>     <td>0.67</td>  <th>  Jarque-Bera (JB):  </th> <td>250919.10</td>\n",
              "</tr>\n",
              "<tr>\n",
              "  <th>Prob(Q):</th>                <td>0.41</td>  <th>  Prob(JB):          </th>   <td>0.00</td>   \n",
              "</tr>\n",
              "<tr>\n",
              "  <th>Heteroskedasticity (H):</th> <td>58.40</td> <th>  Skew:              </th>   <td>-0.12</td>  \n",
              "</tr>\n",
              "<tr>\n",
              "  <th>Prob(H) (two-sided):</th>    <td>0.00</td>  <th>  Kurtosis:          </th>   <td>26.69</td>  \n",
              "</tr>\n",
              "</table><br/><br/>Warnings:<br/>[1] Covariance matrix calculated using the outer product of gradients (complex-step)."
            ]
          },
          "metadata": {},
          "execution_count": 12
        }
      ],
      "source": [
        "stepwise_model.summary()"
      ]
    },
    {
      "cell_type": "markdown",
      "source": [
        "Auto-ARIMA says **ARIMA(3,1,3)** is the optimal selection for the dataset.\n",
        "\n",
        "Forecast both results and the confidence for the next 30 days and store it in a DataFrame.\n",
        "\n",
        "**Confidence** is the range of values you expect your estimate to fall between if you redo your test, within a certain level of confidence.\n",
        "\n",
        "**return_conf_int=True:** Whether to get the confidence intervals of the forecasts."
      ],
      "metadata": {
        "id": "smhubKVt50nd"
      }
    },
    {
      "cell_type": "code",
      "execution_count": null,
      "metadata": {
        "ExecuteTime": {
          "end_time": "2020-01-19T06:59:35.686064Z",
          "start_time": "2020-01-19T06:59:35.679076Z"
        },
        "id": "PuMX6OlDzYx3"
      },
      "outputs": [],
      "source": [
        "forecast,conf_int = stepwise_model.predict(n_periods=30,return_conf_int=True)\n",
        "forecast = pd.DataFrame(forecast,columns=['close_pred'])"
      ]
    },
    {
      "cell_type": "code",
      "execution_count": null,
      "metadata": {
        "ExecuteTime": {
          "end_time": "2020-01-19T06:59:36.853621Z",
          "start_time": "2020-01-19T06:59:36.847633Z"
        },
        "scrolled": true,
        "id": "JmgfV6RZzYx3"
      },
      "outputs": [],
      "source": [
        "df_conf = pd.DataFrame(conf_int,columns= ['Upper_bound','Lower_bound'])\n",
        "df_conf[\"new_index\"] = range(1229, 1259)\n",
        "df_conf = df_conf.set_index(\"new_index\")"
      ]
    },
    {
      "cell_type": "code",
      "execution_count": null,
      "metadata": {
        "ExecuteTime": {
          "end_time": "2020-01-19T06:59:40.261206Z",
          "start_time": "2020-01-19T06:59:40.251231Z"
        },
        "colab": {
          "base_uri": "https://localhost:8080/"
        },
        "id": "EUIpqp1SzYx4",
        "outputId": "735a833c-4515-4a68-981c-cf6c34a19211"
      },
      "outputs": [
        {
          "output_type": "stream",
          "name": "stdout",
          "text": [
            "Evaluation metric results:-\n",
            "MSE is : 254.64719636969028\n",
            "MAE is : 13.546780093520661\n",
            "RMSE is : 15.957668888960264\n",
            "MAPE is : 10.755199509648952\n",
            "R2 is : -1.5896384814567304\n",
            "\n"
          ]
        }
      ],
      "source": [
        "timeseries_evaluation_metrics_func(test, forecast)"
      ]
    },
    {
      "cell_type": "markdown",
      "source": [
        "Rearrange the indexes for the plots to align."
      ],
      "metadata": {
        "id": "Mti3w9jv6i6f"
      }
    },
    {
      "cell_type": "code",
      "execution_count": null,
      "metadata": {
        "ExecuteTime": {
          "end_time": "2020-01-19T06:59:41.296825Z",
          "start_time": "2020-01-19T06:59:41.291876Z"
        },
        "id": "qkk4rQ34zYx4"
      },
      "outputs": [],
      "source": [
        "forecast[\"new_index\"] = range(1229, 1259)\n",
        "forecast = forecast.set_index(\"new_index\")"
      ]
    },
    {
      "cell_type": "markdown",
      "source": [
        "Plot the results with confidence bounds."
      ],
      "metadata": {
        "id": "WZqLjJ2f6kZH"
      }
    },
    {
      "cell_type": "code",
      "execution_count": null,
      "metadata": {
        "ExecuteTime": {
          "end_time": "2020-01-19T07:01:13.474361Z",
          "start_time": "2020-01-19T07:01:13.216053Z"
        },
        "colab": {
          "base_uri": "https://localhost:8080/",
          "height": 428
        },
        "id": "6UBBrZ7qzYx4",
        "outputId": "110f8c7a-a89e-4d42-becf-8c96de875152"
      },
      "outputs": [
        {
          "output_type": "display_data",
          "data": {
            "text/plain": [
              "<Figure size 1080x504 with 1 Axes>"
            ],
            "image/png": "[encoded data removed]"
          },
          "metadata": {
            "needs_background": "light"
          }
        }
      ],
      "source": [
        "import matplotlib.pyplot as plt\n",
        "%matplotlib inline\n",
        "plt.rcParams[\"figure.figsize\"] = [15,7]\n",
        "plt.plot( train, label='Train ')\n",
        "plt.plot(test, label='Test ')\n",
        "plt.plot(forecast, label='Predicted ')\n",
        "plt.plot(df_conf['Upper_bound'], label='Confidence Interval Upper bound ')\n",
        "plt.plot(df_conf['Lower_bound'], label='Confidence Interval Lower bound ')\n",
        "plt.legend(loc='best')\n",
        "plt.show()"
      ]
    },
    {
      "cell_type": "markdown",
      "source": [
        "Plot the diagnostic Plot.\n",
        "\n",
        "**Standardized Residual:** It's a measure of the strength of the difference between observed and expected values.\n",
        "\n",
        "**Histogram plus estimated density:** KDE is a nonparametric way to estimate the probability density function (PDF) of a random variable.\n",
        "\n",
        "**Normal Q-Q:** Q-Q plots let you check that the data meet the assumption of normality. They compare the distribution of your data to a normal distribution by plotting the quartiles of your data against the quartiles of a normal distribution. If your data are normally distributed then they should form an approximately straight line."
      ],
      "metadata": {
        "id": "KwdMzNa86peA"
      }
    },
    {
      "cell_type": "code",
      "execution_count": null,
      "metadata": {
        "ExecuteTime": {
          "end_time": "2020-01-19T07:09:18.083014Z",
          "start_time": "2020-01-19T07:09:17.337005Z"
        },
        "colab": {
          "base_uri": "https://localhost:8080/",
          "height": 458
        },
        "id": "JPWUKOAAzYx4",
        "outputId": "64609935-0f80-4d2f-9f47-f1c543582d9b"
      },
      "outputs": [
        {
          "output_type": "display_data",
          "data": {
            "text/plain": [
              "<Figure size 1080x504 with 4 Axes>"
            ],
            "image/png": "[encoded data removed]"
          },
          "metadata": {
            "needs_background": "light"
          }
        }
      ],
      "source": [
        "stepwise_model.plot_diagnostics();"
      ]
    },
    {
      "cell_type": "code",
      "source": [
        "forecast"
      ],
      "metadata": {
        "id": "Oac-65pC96cf",
        "outputId": "dd4290e2-0b09-4567-f18e-7878257da3b2",
        "colab": {
          "base_uri": "https://localhost:8080/",
          "height": 1000
        }
      },
      "execution_count": null,
      "outputs": [
        {
          "output_type": "execute_result",
          "data": {
            "text/plain": [
              "           close_pred\n",
              "new_index            \n",
              "1229       107.472015\n",
              "1230       107.777671\n",
              "1231       107.611696\n",
              "1232       107.742569\n",
              "1233       107.766713\n",
              "1234       107.711005\n",
              "1235       107.866845\n",
              "1236       107.733630\n",
              "1237       107.893271\n",
              "1238       107.805012\n",
              "1239       107.875674\n",
              "1240       107.885542\n",
              "1241       107.858810\n",
              "1242       107.938383\n",
              "1243       107.869648\n",
              "1244       107.952980\n",
              "1245       107.906105\n",
              "1246       107.944187\n",
              "1247       107.947923\n",
              "1248       107.935197\n",
              "1249       107.975793\n",
              "1250       107.940355\n",
              "1251       107.983830\n",
              "1252       107.958962\n",
              "1253       107.979450\n",
              "1254       107.980669\n",
              "1255       107.974669\n",
              "1256       107.995361\n",
              "1257       107.977104\n",
              "1258       107.999773"
            ],
            "text/html": [
              "\n",
              "  <div id=\"df-fd93930e-da9f-479f-9601-245be8bb4bd8\">\n",
              "    <div class=\"colab-df-container\">\n",
              "      <div>\n",
              "<style scoped>\n",
              "    .dataframe tbody tr th:only-of-type {\n",
              "        vertical-align: middle;\n",
              "    }\n",
              "\n",
              "    .dataframe tbody tr th {\n",
              "        vertical-align: top;\n",
              "    }\n",
              "\n",
              "    .dataframe thead th {\n",
              "        text-align: right;\n",
              "    }\n",
              "</style>\n",
              "<table border=\"1\" class=\"dataframe\">\n",
              "  <thead>\n",
              "    <tr style=\"text-align: right;\">\n",
              "      <th></th>\n",
              "      <th>close_pred</th>\n",
              "    </tr>\n",
              "    <tr>\n",
              "      <th>new_index</th>\n",
              "      <th></th>\n",
              "    </tr>\n",
              "  </thead>\n",
              "  <tbody>\n",
              "    <tr>\n",
              "      <th>1229</th>\n",
              "      <td>107.472015</td>\n",
              "    </tr>\n",
              "    <tr>\n",
              "      <th>1230</th>\n",
              "      <td>107.777671</td>\n",
              "    </tr>\n",
              "    <tr>\n",
              "      <th>1231</th>\n",
              "      <td>107.611696</td>\n",
              "    </tr>\n",
              "    <tr>\n",
              "      <th>1232</th>\n",
              "      <td>107.742569</td>\n",
              "    </tr>\n",
              "    <tr>\n",
              "      <th>1233</th>\n",
              "      <td>107.766713</td>\n",
              "    </tr>\n",
              "    <tr>\n",
              "      <th>1234</th>\n",
              "      <td>107.711005</td>\n",
              "    </tr>\n",
              "    <tr>\n",
              "      <th>1235</th>\n",
              "      <td>107.866845</td>\n",
              "    </tr>\n",
              "    <tr>\n",
              "      <th>1236</th>\n",
              "      <td>107.733630</td>\n",
              "    </tr>\n",
              "    <tr>\n",
              "      <th>1237</th>\n",
              "      <td>107.893271</td>\n",
              "    </tr>\n",
              "    <tr>\n",
              "      <th>1238</th>\n",
              "      <td>107.805012</td>\n",
              "    </tr>\n",
              "    <tr>\n",
              "      <th>1239</th>\n",
              "      <td>107.875674</td>\n",
              "    </tr>\n",
              "    <tr>\n",
              "      <th>1240</th>\n",
              "      <td>107.885542</td>\n",
              "    </tr>\n",
              "    <tr>\n",
              "      <th>1241</th>\n",
              "      <td>107.858810</td>\n",
              "    </tr>\n",
              "    <tr>\n",
              "      <th>1242</th>\n",
              "      <td>107.938383</td>\n",
              "    </tr>\n",
              "    <tr>\n",
              "      <th>1243</th>\n",
              "      <td>107.869648</td>\n",
              "    </tr>\n",
              "    <tr>\n",
              "      <th>1244</th>\n",
              "      <td>107.952980</td>\n",
              "    </tr>\n",
              "    <tr>\n",
              "      <th>1245</th>\n",
              "      <td>107.906105</td>\n",
              "    </tr>\n",
              "    <tr>\n",
              "      <th>1246</th>\n",
              "      <td>107.944187</td>\n",
              "    </tr>\n",
              "    <tr>\n",
              "      <th>1247</th>\n",
              "      <td>107.947923</td>\n",
              "    </tr>\n",
              "    <tr>\n",
              "      <th>1248</th>\n",
              "      <td>107.935197</td>\n",
              "    </tr>\n",
              "    <tr>\n",
              "      <th>1249</th>\n",
              "      <td>107.975793</td>\n",
              "    </tr>\n",
              "    <tr>\n",
              "      <th>1250</th>\n",
              "      <td>107.940355</td>\n",
              "    </tr>\n",
              "    <tr>\n",
              "      <th>1251</th>\n",
              "      <td>107.983830</td>\n",
              "    </tr>\n",
              "    <tr>\n",
              "      <th>1252</th>\n",
              "      <td>107.958962</td>\n",
              "    </tr>\n",
              "    <tr>\n",
              "      <th>1253</th>\n",
              "      <td>107.979450</td>\n",
              "    </tr>\n",
              "    <tr>\n",
              "      <th>1254</th>\n",
              "      <td>107.980669</td>\n",
              "    </tr>\n",
              "    <tr>\n",
              "      <th>1255</th>\n",
              "      <td>107.974669</td>\n",
              "    </tr>\n",
              "    <tr>\n",
              "      <th>1256</th>\n",
              "      <td>107.995361</td>\n",
              "    </tr>\n",
              "    <tr>\n",
              "      <th>1257</th>\n",
              "      <td>107.977104</td>\n",
              "    </tr>\n",
              "    <tr>\n",
              "      <th>1258</th>\n",
              "      <td>107.999773</td>\n",
              "    </tr>\n",
              "  </tbody>\n",
              "</table>\n",
              "</div>\n",
              "      <button class=\"colab-df-convert\" onclick=\"convertToInteractive('df-fd93930e-da9f-479f-9601-245be8bb4bd8')\"\n",
              "              title=\"Convert this dataframe to an interactive table.\"\n",
              "              style=\"display:none;\">\n",
              "        \n",
              "  <svg xmlns=\"http://www.w3.org/2000/svg\" height=\"24px\"viewBox=\"0 0 24 24\"\n",
              "       width=\"24px\">\n",
              "    <path d=\"M0 0h24v24H0V0z\" fill=\"none\"/>\n",
              "    <path d=\"M18.56 5.44l.94 2.06.94-2.06 2.06-.94-2.06-.94-.94-2.06-.94 2.06-2.06.94zm-11 1L8.5 8.5l.94-2.06 2.06-.94-2.06-.94L8.5 2.5l-.94 2.06-2.06.94zm10 10l.94 2.06.94-2.06 2.06-.94-2.06-.94-.94-2.06-.94 2.06-2.06.94z\"/><path d=\"M17.41 7.96l-1.37-1.37c-.4-.4-.92-.59-1.43-.59-.52 0-1.04.2-1.43.59L10.3 9.45l-7.72 7.72c-.78.78-.78 2.05 0 2.83L4 21.41c.39.39.9.59 1.41.59.51 0 1.02-.2 1.41-.59l7.78-7.78 2.81-2.81c.8-.78.8-2.07 0-2.86zM5.41 20L4 18.59l7.72-7.72 1.47 1.35L5.41 20z\"/>\n",
              "  </svg>\n",
              "      </button>\n",
              "      \n",
              "  <style>\n",
              "    .colab-df-container {\n",
              "      display:flex;\n",
              "      flex-wrap:wrap;\n",
              "      gap: 12px;\n",
              "    }\n",
              "\n",
              "    .colab-df-convert {\n",
              "      background-color: #E8F0FE;\n",
              "      border: none;\n",
              "      border-radius: 50%;\n",
              "      cursor: pointer;\n",
              "      display: none;\n",
              "      fill: #1967D2;\n",
              "      height: 32px;\n",
              "      padding: 0 0 0 0;\n",
              "      width: 32px;\n",
              "    }\n",
              "\n",
              "    .colab-df-convert:hover {\n",
              "      background-color: #E2EBFA;\n",
              "      box-shadow: 0px 1px 2px rgba(60, 64, 67, 0.3), 0px 1px 3px 1px rgba(60, 64, 67, 0.15);\n",
              "      fill: #174EA6;\n",
              "    }\n",
              "\n",
              "    [theme=dark] .colab-df-convert {\n",
              "      background-color: #3B4455;\n",
              "      fill: #D2E3FC;\n",
              "    }\n",
              "\n",
              "    [theme=dark] .colab-df-convert:hover {\n",
              "      background-color: #434B5C;\n",
              "      box-shadow: 0px 1px 3px 1px rgba(0, 0, 0, 0.15);\n",
              "      filter: drop-shadow(0px 1px 2px rgba(0, 0, 0, 0.3));\n",
              "      fill: #FFFFFF;\n",
              "    }\n",
              "  </style>\n",
              "\n",
              "      <script>\n",
              "        const buttonEl =\n",
              "          document.querySelector('#df-fd93930e-da9f-479f-9601-245be8bb4bd8 button.colab-df-convert');\n",
              "        buttonEl.style.display =\n",
              "          google.colab.kernel.accessAllowed ? 'block' : 'none';\n",
              "\n",
              "        async function convertToInteractive(key) {\n",
              "          const element = document.querySelector('#df-fd93930e-da9f-479f-9601-245be8bb4bd8');\n",
              "          const dataTable =\n",
              "            await google.colab.kernel.invokeFunction('convertToInteractive',\n",
              "                                                     [key], {});\n",
              "          if (!dataTable) return;\n",
              "\n",
              "          const docLinkHtml = 'Like what you see? Visit the ' +\n",
              "            '<a target=\"_blank\" href=https://colab.research.google.com/notebooks/data_table.ipynb>data table notebook</a>'\n",
              "            + ' to learn more about interactive tables.';\n",
              "          element.innerHTML = '';\n",
              "          dataTable['output_type'] = 'display_data';\n",
              "          await google.colab.output.renderOutput(dataTable, element);\n",
              "          const docLink = document.createElement('div');\n",
              "          docLink.innerHTML = docLinkHtml;\n",
              "          element.appendChild(docLink);\n",
              "        }\n",
              "      </script>\n",
              "    </div>\n",
              "  </div>\n",
              "  "
            ]
          },
          "metadata": {},
          "execution_count": 19
        }
      ]
    }
  ],
  "metadata": {
    "kernelspec": {
      "display_name": "Python 3",
      "language": "python",
      "name": "python3"
    },
    "language_info": {
      "codemirror_mode": {
        "name": "ipython",
        "version": 3
      },
      "file_extension": ".py",
      "mimetype": "text/x-python",
      "name": "python",
      "nbconvert_exporter": "python",
      "pygments_lexer": "ipython3",
      "version": "3.7.3"
    },
    "latex_envs": {
      "LaTeX_envs_menu_present": true,
      "autoclose": false,
      "autocomplete": true,
      "bibliofile": "biblio.bib",
      "cite_by": "apalike",
      "current_citInitial": 1,
      "eqLabelWithNumbers": true,
      "eqNumInitial": 1,
      "hotkeys": {
        "equation": "Ctrl-E",
        "itemize": "Ctrl-I"
      },
      "labels_anchors": false,
      "latex_user_defs": false,
      "report_style_numbering": false,
      "user_envs_cfg": false
    },
    "colab": {
      "provenance": []
    }
  },
  "nbformat": 4,
  "nbformat_minor": 0
}
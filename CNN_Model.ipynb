{
  "nbformat": 4,
  "nbformat_minor": 0,
  "metadata": {
    "colab": {
      "provenance": []
    },
    "kernelspec": {
      "name": "python3",
      "display_name": "Python 3"
    },
    "language_info": {
      "name": "python"
    }
  },
  "cells": [
    {
      "cell_type": "markdown",
      "source": [
        "### Import all the libraries and datatset"
      ],
      "metadata": {
        "id": "VM6i8cWFX96M"
      }
    },
    {
      "cell_type": "code",
      "execution_count": null,
      "metadata": {
        "id": "J3aeXQfyTSY7"
      },
      "outputs": [],
      "source": [
        "from numpy import array\n",
        "import numpy as np\n",
        "import pandas as pd\n",
        "from keras.models import Sequential\n",
        "from keras.layers import Dense, Flatten, Conv1D, MaxPooling1D\n",
        "\n",
        "import warnings\n",
        "\n",
        "import matplotlib.pyplot as plt\n",
        "import statsmodels.api as sm\n",
        "from sklearn import metrics\n",
        "\n",
        "warnings.filterwarnings(\"ignore\")"
      ]
    },
    {
      "cell_type": "code",
      "source": [
        "df = pd.read_csv('JPM.csv')\n",
        "df.head(10)"
      ],
      "metadata": {
        "colab": {
          "base_uri": "https://localhost:8080/",
          "height": 363
        },
        "id": "dWEjaBvaTusR",
        "outputId": "8ae4aab8-beb6-44df-ca2a-dfe859ca8768"
      },
      "execution_count": null,
      "outputs": [
        {
          "output_type": "execute_result",
          "data": {
            "text/plain": [
              "         Date  Open      High       Low     Close  Adj Close  Volume\n",
              "0  1980-03-17   0.0  5.129630  5.018519  5.037037   1.122904   62775\n",
              "1  1980-03-18   0.0  5.111111  5.037037  5.074074   1.131161   64125\n",
              "2  1980-03-19   0.0  5.166667  5.111111  5.148148   1.147674   40500\n",
              "3  1980-03-20   0.0  5.148148  5.092593  5.111111   1.139418   18900\n",
              "4  1980-03-21   0.0  5.222222  5.111111  5.222222   1.164188   97200\n",
              "5  1980-03-24   0.0  5.185185  5.092593  5.092593   1.135290   90450\n",
              "6  1980-03-25   0.0  5.111111  5.055556  5.074074   1.131161   72225\n",
              "7  1980-03-26   0.0  5.148148  5.037037  5.111111   1.139418   31725\n",
              "8  1980-03-27   0.0  5.092593  4.925926  5.074074   1.131161   62100\n",
              "9  1980-03-28   0.0  5.074074  4.925926  5.018519   1.118777   84375"
            ],
            "text/html": [
              "\n",
              "  <div id=\"df-bc9b7d1f-a226-4cae-9995-8ca3cc08d838\">\n",
              "    <div class=\"colab-df-container\">\n",
              "      <div>\n",
              "<style scoped>\n",
              "    .dataframe tbody tr th:only-of-type {\n",
              "        vertical-align: middle;\n",
              "    }\n",
              "\n",
              "    .dataframe tbody tr th {\n",
              "        vertical-align: top;\n",
              "    }\n",
              "\n",
              "    .dataframe thead th {\n",
              "        text-align: right;\n",
              "    }\n",
              "</style>\n",
              "<table border=\"1\" class=\"dataframe\">\n",
              "  <thead>\n",
              "    <tr style=\"text-align: right;\">\n",
              "      <th></th>\n",
              "      <th>Date</th>\n",
              "      <th>Open</th>\n",
              "      <th>High</th>\n",
              "      <th>Low</th>\n",
              "      <th>Close</th>\n",
              "      <th>Adj Close</th>\n",
              "      <th>Volume</th>\n",
              "    </tr>\n",
              "  </thead>\n",
              "  <tbody>\n",
              "    <tr>\n",
              "      <th>0</th>\n",
              "      <td>1980-03-17</td>\n",
              "      <td>0.0</td>\n",
              "      <td>5.129630</td>\n",
              "      <td>5.018519</td>\n",
              "      <td>5.037037</td>\n",
              "      <td>1.122904</td>\n",
              "      <td>62775</td>\n",
              "    </tr>\n",
              "    <tr>\n",
              "      <th>1</th>\n",
              "      <td>1980-03-18</td>\n",
              "      <td>0.0</td>\n",
              "      <td>5.111111</td>\n",
              "      <td>5.037037</td>\n",
              "      <td>5.074074</td>\n",
              "      <td>1.131161</td>\n",
              "      <td>64125</td>\n",
              "    </tr>\n",
              "    <tr>\n",
              "      <th>2</th>\n",
              "      <td>1980-03-19</td>\n",
              "      <td>0.0</td>\n",
              "      <td>5.166667</td>\n",
              "      <td>5.111111</td>\n",
              "      <td>5.148148</td>\n",
              "      <td>1.147674</td>\n",
              "      <td>40500</td>\n",
              "    </tr>\n",
              "    <tr>\n",
              "      <th>3</th>\n",
              "      <td>1980-03-20</td>\n",
              "      <td>0.0</td>\n",
              "      <td>5.148148</td>\n",
              "      <td>5.092593</td>\n",
              "      <td>5.111111</td>\n",
              "      <td>1.139418</td>\n",
              "      <td>18900</td>\n",
              "    </tr>\n",
              "    <tr>\n",
              "      <th>4</th>\n",
              "      <td>1980-03-21</td>\n",
              "      <td>0.0</td>\n",
              "      <td>5.222222</td>\n",
              "      <td>5.111111</td>\n",
              "      <td>5.222222</td>\n",
              "      <td>1.164188</td>\n",
              "      <td>97200</td>\n",
              "    </tr>\n",
              "    <tr>\n",
              "      <th>5</th>\n",
              "      <td>1980-03-24</td>\n",
              "      <td>0.0</td>\n",
              "      <td>5.185185</td>\n",
              "      <td>5.092593</td>\n",
              "      <td>5.092593</td>\n",
              "      <td>1.135290</td>\n",
              "      <td>90450</td>\n",
              "    </tr>\n",
              "    <tr>\n",
              "      <th>6</th>\n",
              "      <td>1980-03-25</td>\n",
              "      <td>0.0</td>\n",
              "      <td>5.111111</td>\n",
              "      <td>5.055556</td>\n",
              "      <td>5.074074</td>\n",
              "      <td>1.131161</td>\n",
              "      <td>72225</td>\n",
              "    </tr>\n",
              "    <tr>\n",
              "      <th>7</th>\n",
              "      <td>1980-03-26</td>\n",
              "      <td>0.0</td>\n",
              "      <td>5.148148</td>\n",
              "      <td>5.037037</td>\n",
              "      <td>5.111111</td>\n",
              "      <td>1.139418</td>\n",
              "      <td>31725</td>\n",
              "    </tr>\n",
              "    <tr>\n",
              "      <th>8</th>\n",
              "      <td>1980-03-27</td>\n",
              "      <td>0.0</td>\n",
              "      <td>5.092593</td>\n",
              "      <td>4.925926</td>\n",
              "      <td>5.074074</td>\n",
              "      <td>1.131161</td>\n",
              "      <td>62100</td>\n",
              "    </tr>\n",
              "    <tr>\n",
              "      <th>9</th>\n",
              "      <td>1980-03-28</td>\n",
              "      <td>0.0</td>\n",
              "      <td>5.074074</td>\n",
              "      <td>4.925926</td>\n",
              "      <td>5.018519</td>\n",
              "      <td>1.118777</td>\n",
              "      <td>84375</td>\n",
              "    </tr>\n",
              "  </tbody>\n",
              "</table>\n",
              "</div>\n",
              "      <button class=\"colab-df-convert\" onclick=\"convertToInteractive('df-bc9b7d1f-a226-4cae-9995-8ca3cc08d838')\"\n",
              "              title=\"Convert this dataframe to an interactive table.\"\n",
              "              style=\"display:none;\">\n",
              "        \n",
              "  <svg xmlns=\"http://www.w3.org/2000/svg\" height=\"24px\"viewBox=\"0 0 24 24\"\n",
              "       width=\"24px\">\n",
              "    <path d=\"M0 0h24v24H0V0z\" fill=\"none\"/>\n",
              "    <path d=\"M18.56 5.44l.94 2.06.94-2.06 2.06-.94-2.06-.94-.94-2.06-.94 2.06-2.06.94zm-11 1L8.5 8.5l.94-2.06 2.06-.94-2.06-.94L8.5 2.5l-.94 2.06-2.06.94zm10 10l.94 2.06.94-2.06 2.06-.94-2.06-.94-.94-2.06-.94 2.06-2.06.94z\"/><path d=\"M17.41 7.96l-1.37-1.37c-.4-.4-.92-.59-1.43-.59-.52 0-1.04.2-1.43.59L10.3 9.45l-7.72 7.72c-.78.78-.78 2.05 0 2.83L4 21.41c.39.39.9.59 1.41.59.51 0 1.02-.2 1.41-.59l7.78-7.78 2.81-2.81c.8-.78.8-2.07 0-2.86zM5.41 20L4 18.59l7.72-7.72 1.47 1.35L5.41 20z\"/>\n",
              "  </svg>\n",
              "      </button>\n",
              "      \n",
              "  <style>\n",
              "    .colab-df-container {\n",
              "      display:flex;\n",
              "      flex-wrap:wrap;\n",
              "      gap: 12px;\n",
              "    }\n",
              "\n",
              "    .colab-df-convert {\n",
              "      background-color: #E8F0FE;\n",
              "      border: none;\n",
              "      border-radius: 50%;\n",
              "      cursor: pointer;\n",
              "      display: none;\n",
              "      fill: #1967D2;\n",
              "      height: 32px;\n",
              "      padding: 0 0 0 0;\n",
              "      width: 32px;\n",
              "    }\n",
              "\n",
              "    .colab-df-convert:hover {\n",
              "      background-color: #E2EBFA;\n",
              "      box-shadow: 0px 1px 2px rgba(60, 64, 67, 0.3), 0px 1px 3px 1px rgba(60, 64, 67, 0.15);\n",
              "      fill: #174EA6;\n",
              "    }\n",
              "\n",
              "    [theme=dark] .colab-df-convert {\n",
              "      background-color: #3B4455;\n",
              "      fill: #D2E3FC;\n",
              "    }\n",
              "\n",
              "    [theme=dark] .colab-df-convert:hover {\n",
              "      background-color: #434B5C;\n",
              "      box-shadow: 0px 1px 3px 1px rgba(0, 0, 0, 0.15);\n",
              "      filter: drop-shadow(0px 1px 2px rgba(0, 0, 0, 0.3));\n",
              "      fill: #FFFFFF;\n",
              "    }\n",
              "  </style>\n",
              "\n",
              "      <script>\n",
              "        const buttonEl =\n",
              "          document.querySelector('#df-bc9b7d1f-a226-4cae-9995-8ca3cc08d838 button.colab-df-convert');\n",
              "        buttonEl.style.display =\n",
              "          google.colab.kernel.accessAllowed ? 'block' : 'none';\n",
              "\n",
              "        async function convertToInteractive(key) {\n",
              "          const element = document.querySelector('#df-bc9b7d1f-a226-4cae-9995-8ca3cc08d838');\n",
              "          const dataTable =\n",
              "            await google.colab.kernel.invokeFunction('convertToInteractive',\n",
              "                                                     [key], {});\n",
              "          if (!dataTable) return;\n",
              "\n",
              "          const docLinkHtml = 'Like what you see? Visit the ' +\n",
              "            '<a target=\"_blank\" href=https://colab.research.google.com/notebooks/data_table.ipynb>data table notebook</a>'\n",
              "            + ' to learn more about interactive tables.';\n",
              "          element.innerHTML = '';\n",
              "          dataTable['output_type'] = 'display_data';\n",
              "          await google.colab.output.renderOutput(dataTable, element);\n",
              "          const docLink = document.createElement('div');\n",
              "          docLink.innerHTML = docLinkHtml;\n",
              "          element.appendChild(docLink);\n",
              "        }\n",
              "      </script>\n",
              "    </div>\n",
              "  </div>\n",
              "  "
            ]
          },
          "metadata": {},
          "execution_count": 19
        }
      ]
    },
    {
      "cell_type": "markdown",
      "source": [
        "### Define a function that extracts features (lagged values)"
      ],
      "metadata": {
        "id": "LQz_MdFUX7ME"
      }
    },
    {
      "cell_type": "code",
      "source": [
        "def train_split_sequence(sequence, steps):\n",
        "  X, y = list(), list()\n",
        "  for start in range(0, len(sequence)-30):\n",
        "    end_index = start + steps\n",
        "    if end_index > len(sequence)-1:\n",
        "      break\n",
        "    sequence_x, sequence_y = sequence[start: end_index], sequence[end_index]\n",
        "    X.append(sequence_x)\n",
        "    y.append(sequence_y)\n",
        "  return array(X), array(y)\n",
        "\n",
        "\n",
        "def test_split_sequence(sequence, steps):\n",
        "  X, y = list(), list()\n",
        "  for start in range(len(sequence)-30, len(sequence)):\n",
        "    end_index = start + steps\n",
        "    if end_index > len(sequence)-1:\n",
        "      break\n",
        "    sequence_x, sequence_y = sequence[start: end_index], sequence[end_index]\n",
        "    X.append(sequence_x)\n",
        "    y.append(sequence_y)\n",
        "  return array(X), array(y)"
      ],
      "metadata": {
        "id": "31UCz0_UTuqJ"
      },
      "execution_count": null,
      "outputs": []
    },
    {
      "cell_type": "markdown",
      "source": [
        "### Initializing Sequence, steps and reshaping the output to input to our CNN Model"
      ],
      "metadata": {
        "id": "yBHdrmRAXw3O"
      }
    },
    {
      "cell_type": "code",
      "source": [
        "raw_sequence = df['Close']\n",
        "steps = 30\n",
        "\n",
        "X, y = train_split_sequence(raw_sequence, steps)"
      ],
      "metadata": {
        "id": "R7LEj4u6Tuuw"
      },
      "execution_count": null,
      "outputs": []
    },
    {
      "cell_type": "code",
      "source": [
        "print(\"**************************************\")\n",
        "print(\"The input to our CNN is Close Stock Price of JP Morgan:\\n\", raw_sequence)\n",
        "print(\"**************************************\")\n",
        "print(\"The features (X), lagged values of time series, for our CNN Model\")\n",
        "print(X)\n",
        "print(\"**************************************\")\n",
        "print(\"The respective observed values (y) of sequence for training our CNN Model\")\n",
        "print(y)\n",
        "print(\"**************************************\")"
      ],
      "metadata": {
        "colab": {
          "base_uri": "https://localhost:8080/"
        },
        "id": "B6GJNR9mTuzB",
        "outputId": "3cf05551-6673-4942-b98f-f1247c253fc1"
      },
      "execution_count": null,
      "outputs": [
        {
          "output_type": "stream",
          "name": "stdout",
          "text": [
            "**************************************\n",
            "The input to our CNN is Close Stock Price of JP Morgan:\n",
            " 0          5.037037\n",
            "1          5.074074\n",
            "2          5.148148\n",
            "3          5.111111\n",
            "4          5.222222\n",
            "            ...    \n",
            "10754    131.449997\n",
            "10755    129.740005\n",
            "10756    135.080002\n",
            "10757    135.300003\n",
            "10758    133.910004\n",
            "Name: Close, Length: 10759, dtype: float64\n",
            "**************************************\n",
            "The features (X), lagged values of time series, for our CNN Model\n",
            "[[  5.037037   5.074074   5.148148 ...   5.296296   5.222222   5.333333]\n",
            " [  5.074074   5.148148   5.111111 ...   5.222222   5.333333   5.351852]\n",
            " [  5.148148   5.111111   5.222222 ...   5.333333   5.351852   5.407407]\n",
            " ...\n",
            " [106.160004 104.5      107.730003 ... 131.369995 131.449997 129.740005]\n",
            " [104.5      107.730003 112.769997 ... 131.449997 129.740005 135.080002]\n",
            " [107.730003 112.769997 110.389999 ... 129.740005 135.080002 135.300003]]\n",
            "**************************************\n",
            "The respective observed values (y) of sequence for training our CNN Model\n",
            "[  5.351852   5.407407   5.5      ... 135.080002 135.300003 133.910004]\n",
            "**************************************\n"
          ]
        }
      ]
    },
    {
      "cell_type": "markdown",
      "source": [
        "### Reshaping the X matrices"
      ],
      "metadata": {
        "id": "W8Xgb207VekL"
      }
    },
    {
      "cell_type": "code",
      "source": [
        "features = 1\n",
        "X = X.reshape((X.shape[0], X.shape[1], features))\n",
        "\n",
        "print(\"After reshaping, the shape of input X\")\n",
        "print(X.shape)\n",
        "print(\"**************************************\")\n",
        "print(\"**************************************\")\n",
        "print(\"The final form of input feature matrix X is\")\n",
        "print(X)\n",
        "print(\"**************************************\")\n",
        "print(\"**************************************\")\n",
        "print(\"Feature matrix X is ready for input to CNN model. We have used feature engineering to convert\\n\"\n",
        ",\"a sequence to matrix with image matrix shape to find patterns in sequence\")\n",
        "print(\"**************************************\")\n",
        "print(\"**************************************\")"
      ],
      "metadata": {
        "colab": {
          "base_uri": "https://localhost:8080/"
        },
        "id": "44hz0r5zTu2z",
        "outputId": "cbd9b478-a489-4c0f-9f53-cd573376f403"
      },
      "execution_count": null,
      "outputs": [
        {
          "output_type": "stream",
          "name": "stdout",
          "text": [
            "After reshaping, the shape of input X\n",
            "(10729, 30, 1)\n",
            "**************************************\n",
            "**************************************\n",
            "The final form of input feature matrix X is\n",
            "[[[  5.037037]\n",
            "  [  5.074074]\n",
            "  [  5.148148]\n",
            "  ...\n",
            "  [  5.296296]\n",
            "  [  5.222222]\n",
            "  [  5.333333]]\n",
            "\n",
            " [[  5.074074]\n",
            "  [  5.148148]\n",
            "  [  5.111111]\n",
            "  ...\n",
            "  [  5.222222]\n",
            "  [  5.333333]\n",
            "  [  5.351852]]\n",
            "\n",
            " [[  5.148148]\n",
            "  [  5.111111]\n",
            "  [  5.222222]\n",
            "  ...\n",
            "  [  5.333333]\n",
            "  [  5.351852]\n",
            "  [  5.407407]]\n",
            "\n",
            " ...\n",
            "\n",
            " [[106.160004]\n",
            "  [104.5     ]\n",
            "  [107.730003]\n",
            "  ...\n",
            "  [131.369995]\n",
            "  [131.449997]\n",
            "  [129.740005]]\n",
            "\n",
            " [[104.5     ]\n",
            "  [107.730003]\n",
            "  [112.769997]\n",
            "  ...\n",
            "  [131.449997]\n",
            "  [129.740005]\n",
            "  [135.080002]]\n",
            "\n",
            " [[107.730003]\n",
            "  [112.769997]\n",
            "  [110.389999]\n",
            "  ...\n",
            "  [129.740005]\n",
            "  [135.080002]\n",
            "  [135.300003]]]\n",
            "**************************************\n",
            "**************************************\n",
            "Feature matrix X is ready for input to CNN model. We have used feature engineering to convert\n",
            " a sequence to matrix with image matrix shape to find patterns in sequence\n",
            "**************************************\n",
            "**************************************\n"
          ]
        }
      ]
    },
    {
      "cell_type": "markdown",
      "source": [
        "### Define CNN Model"
      ],
      "metadata": {
        "id": "p5ZtTLNxXpqM"
      }
    },
    {
      "cell_type": "code",
      "source": [
        "model = Sequential()\n",
        "model.add(Conv1D(filters=64, kernel_size=2, activation='relu', input_shape=(steps, features)))\n",
        "model.add(MaxPooling1D(pool_size=2))\n",
        "\n",
        "model.add(Flatten())\n",
        "model.add(Dense(100, activation=\"relu\"))\n",
        "model.add(Dense(1))"
      ],
      "metadata": {
        "id": "xPLrZXKkW4ap"
      },
      "execution_count": null,
      "outputs": []
    },
    {
      "cell_type": "markdown",
      "source": [
        "### Implement CNN Model fitting"
      ],
      "metadata": {
        "id": "benrPOywXloc"
      }
    },
    {
      "cell_type": "code",
      "source": [
        "model.summary()"
      ],
      "metadata": {
        "colab": {
          "base_uri": "https://localhost:8080/"
        },
        "id": "BPFe9zqmnxgx",
        "outputId": "308d3644-c194-44d3-af61-b845b04bd21f"
      },
      "execution_count": null,
      "outputs": [
        {
          "output_type": "stream",
          "name": "stdout",
          "text": [
            "Model: \"sequential_1\"\n",
            "_________________________________________________________________\n",
            " Layer (type)                Output Shape              Param #   \n",
            "=================================================================\n",
            " conv1d_1 (Conv1D)           (None, 29, 64)            192       \n",
            "                                                                 \n",
            " max_pooling1d_1 (MaxPooling  (None, 14, 64)           0         \n",
            " 1D)                                                             \n",
            "                                                                 \n",
            " flatten_1 (Flatten)         (None, 896)               0         \n",
            "                                                                 \n",
            " dense_2 (Dense)             (None, 100)               89700     \n",
            "                                                                 \n",
            " dense_3 (Dense)             (None, 1)                 101       \n",
            "                                                                 \n",
            "=================================================================\n",
            "Total params: 89,993\n",
            "Trainable params: 89,993\n",
            "Non-trainable params: 0\n",
            "_________________________________________________________________\n"
          ]
        }
      ]
    },
    {
      "cell_type": "code",
      "source": [
        "model.compile(optimizer=\"adam\", loss=\"mse\")"
      ],
      "metadata": {
        "id": "1yOt8sHCXaRp"
      },
      "execution_count": null,
      "outputs": []
    },
    {
      "cell_type": "code",
      "source": [
        "model.fit(X, y, epochs=50, verbose=1)"
      ],
      "metadata": {
        "colab": {
          "base_uri": "https://localhost:8080/"
        },
        "id": "ur9NW7utXaUA",
        "outputId": "b299945c-ffd8-4ae3-f61c-f3f3404a0192"
      },
      "execution_count": null,
      "outputs": [
        {
          "output_type": "stream",
          "name": "stdout",
          "text": [
            "Epoch 1/50\n",
            "336/336 [==============================] - 3s 7ms/step - loss: 27.8053\n",
            "Epoch 2/50\n",
            "336/336 [==============================] - 3s 8ms/step - loss: 6.5897\n",
            "Epoch 3/50\n",
            "336/336 [==============================] - 2s 7ms/step - loss: 5.4516\n",
            "Epoch 4/50\n",
            "336/336 [==============================] - 2s 7ms/step - loss: 5.0899\n",
            "Epoch 5/50\n",
            "336/336 [==============================] - 2s 7ms/step - loss: 4.8151\n",
            "Epoch 6/50\n",
            "336/336 [==============================] - 3s 8ms/step - loss: 4.0007\n",
            "Epoch 7/50\n",
            "336/336 [==============================] - 3s 8ms/step - loss: 4.5194\n",
            "Epoch 8/50\n",
            "336/336 [==============================] - 2s 7ms/step - loss: 4.2733\n",
            "Epoch 9/50\n",
            "336/336 [==============================] - 2s 7ms/step - loss: 3.6295\n",
            "Epoch 10/50\n",
            "336/336 [==============================] - 2s 7ms/step - loss: 3.5156\n",
            "Epoch 11/50\n",
            "336/336 [==============================] - 2s 7ms/step - loss: 4.0309\n",
            "Epoch 12/50\n",
            "336/336 [==============================] - 2s 7ms/step - loss: 3.6643\n",
            "Epoch 13/50\n",
            "336/336 [==============================] - 3s 8ms/step - loss: 3.1111\n",
            "Epoch 14/50\n",
            "336/336 [==============================] - 3s 8ms/step - loss: 3.9232\n",
            "Epoch 15/50\n",
            "336/336 [==============================] - 3s 8ms/step - loss: 3.2219\n",
            "Epoch 16/50\n",
            "336/336 [==============================] - 3s 8ms/step - loss: 3.1795\n",
            "Epoch 17/50\n",
            "336/336 [==============================] - 2s 7ms/step - loss: 2.7669\n",
            "Epoch 18/50\n",
            "336/336 [==============================] - 3s 7ms/step - loss: 2.8322\n",
            "Epoch 19/50\n",
            "336/336 [==============================] - 3s 8ms/step - loss: 2.7340\n",
            "Epoch 20/50\n",
            "336/336 [==============================] - 2s 7ms/step - loss: 3.1500\n",
            "Epoch 21/50\n",
            "336/336 [==============================] - 2s 7ms/step - loss: 3.2354\n",
            "Epoch 22/50\n",
            "336/336 [==============================] - 2s 7ms/step - loss: 2.9876\n",
            "Epoch 23/50\n",
            "336/336 [==============================] - 2s 7ms/step - loss: 3.1266\n",
            "Epoch 24/50\n",
            "336/336 [==============================] - 2s 7ms/step - loss: 2.9145\n",
            "Epoch 25/50\n",
            "336/336 [==============================] - 2s 7ms/step - loss: 3.1105\n",
            "Epoch 26/50\n",
            "336/336 [==============================] - 2s 7ms/step - loss: 3.0038\n",
            "Epoch 27/50\n",
            "336/336 [==============================] - 2s 7ms/step - loss: 3.1608\n",
            "Epoch 28/50\n",
            "336/336 [==============================] - 3s 8ms/step - loss: 2.7530\n",
            "Epoch 29/50\n",
            "336/336 [==============================] - 3s 8ms/step - loss: 2.8243\n",
            "Epoch 30/50\n",
            "336/336 [==============================] - 3s 8ms/step - loss: 2.5401\n",
            "Epoch 31/50\n",
            "336/336 [==============================] - 3s 8ms/step - loss: 2.5329\n",
            "Epoch 32/50\n",
            "336/336 [==============================] - 3s 9ms/step - loss: 2.4645\n",
            "Epoch 33/50\n",
            "336/336 [==============================] - 2s 7ms/step - loss: 3.0310\n",
            "Epoch 34/50\n",
            "336/336 [==============================] - 2s 7ms/step - loss: 2.9188\n",
            "Epoch 35/50\n",
            "336/336 [==============================] - 2s 7ms/step - loss: 2.6677\n",
            "Epoch 36/50\n",
            "336/336 [==============================] - 2s 7ms/step - loss: 3.1839\n",
            "Epoch 37/50\n",
            "336/336 [==============================] - 2s 7ms/step - loss: 2.6407\n",
            "Epoch 38/50\n",
            "336/336 [==============================] - 2s 7ms/step - loss: 2.7447\n",
            "Epoch 39/50\n",
            "336/336 [==============================] - 3s 8ms/step - loss: 3.0802\n",
            "Epoch 40/50\n",
            "336/336 [==============================] - 2s 7ms/step - loss: 2.4260\n",
            "Epoch 41/50\n",
            "336/336 [==============================] - 3s 8ms/step - loss: 2.5853\n",
            "Epoch 42/50\n",
            "336/336 [==============================] - 3s 8ms/step - loss: 2.6200\n",
            "Epoch 43/50\n",
            "336/336 [==============================] - 3s 8ms/step - loss: 2.7691\n",
            "Epoch 44/50\n",
            "336/336 [==============================] - 3s 7ms/step - loss: 3.0530\n",
            "Epoch 45/50\n",
            "336/336 [==============================] - 2s 7ms/step - loss: 2.5551\n",
            "Epoch 46/50\n",
            "336/336 [==============================] - 3s 7ms/step - loss: 2.5196\n",
            "Epoch 47/50\n",
            "336/336 [==============================] - 2s 7ms/step - loss: 2.8198\n",
            "Epoch 48/50\n",
            "336/336 [==============================] - 2s 7ms/step - loss: 2.6032\n",
            "Epoch 49/50\n",
            "336/336 [==============================] - 3s 8ms/step - loss: 2.6316\n",
            "Epoch 50/50\n",
            "336/336 [==============================] - 3s 8ms/step - loss: 2.8878\n"
          ]
        },
        {
          "output_type": "execute_result",
          "data": {
            "text/plain": [
              "<keras.callbacks.History at 0x7efc32039700>"
            ]
          },
          "metadata": {},
          "execution_count": 27
        }
      ]
    },
    {
      "cell_type": "markdown",
      "source": [
        "### Predicting the Future Values"
      ],
      "metadata": {
        "id": "AHys9obzXb8u"
      }
    },
    {
      "cell_type": "code",
      "source": [
        "x_test, y_test = train_split_sequence(raw_sequence, steps)\n",
        "\n",
        "x_test = x_test.reshape((x_test.shape[0], x_test.shape[1], features))\n",
        "y_pred = model.predict(x_test, verbose=0)\n",
        "\n",
        "print(f\"The next predicted output vs original is:\")\n",
        "data = pd.DataFrame(y_pred, columns=['y_pred'])\n",
        "data[\"y_test\"] = y_test\n",
        "data.head()"
      ],
      "metadata": {
        "colab": {
          "base_uri": "https://localhost:8080/",
          "height": 223
        },
        "id": "4Q2KL4xpXaWT",
        "outputId": "e51131db-8de6-4e60-e44d-5078569355e2"
      },
      "execution_count": null,
      "outputs": [
        {
          "output_type": "stream",
          "name": "stdout",
          "text": [
            "The next predicted output vs original is:\n"
          ]
        },
        {
          "output_type": "execute_result",
          "data": {
            "text/plain": [
              "     y_pred    y_test\n",
              "0  5.110896  5.351852\n",
              "1  5.068399  5.407407\n",
              "2  5.198746  5.500000\n",
              "3  5.210667  5.555556\n",
              "4  5.319422  5.851852"
            ],
            "text/html": [
              "\n",
              "  <div id=\"df-07eabf2d-f66d-46a7-81b1-fcdec94245c6\">\n",
              "    <div class=\"colab-df-container\">\n",
              "      <div>\n",
              "<style scoped>\n",
              "    .dataframe tbody tr th:only-of-type {\n",
              "        vertical-align: middle;\n",
              "    }\n",
              "\n",
              "    .dataframe tbody tr th {\n",
              "        vertical-align: top;\n",
              "    }\n",
              "\n",
              "    .dataframe thead th {\n",
              "        text-align: right;\n",
              "    }\n",
              "</style>\n",
              "<table border=\"1\" class=\"dataframe\">\n",
              "  <thead>\n",
              "    <tr style=\"text-align: right;\">\n",
              "      <th></th>\n",
              "      <th>y_pred</th>\n",
              "      <th>y_test</th>\n",
              "    </tr>\n",
              "  </thead>\n",
              "  <tbody>\n",
              "    <tr>\n",
              "      <th>0</th>\n",
              "      <td>5.110896</td>\n",
              "      <td>5.351852</td>\n",
              "    </tr>\n",
              "    <tr>\n",
              "      <th>1</th>\n",
              "      <td>5.068399</td>\n",
              "      <td>5.407407</td>\n",
              "    </tr>\n",
              "    <tr>\n",
              "      <th>2</th>\n",
              "      <td>5.198746</td>\n",
              "      <td>5.500000</td>\n",
              "    </tr>\n",
              "    <tr>\n",
              "      <th>3</th>\n",
              "      <td>5.210667</td>\n",
              "      <td>5.555556</td>\n",
              "    </tr>\n",
              "    <tr>\n",
              "      <th>4</th>\n",
              "      <td>5.319422</td>\n",
              "      <td>5.851852</td>\n",
              "    </tr>\n",
              "  </tbody>\n",
              "</table>\n",
              "</div>\n",
              "      <button class=\"colab-df-convert\" onclick=\"convertToInteractive('df-07eabf2d-f66d-46a7-81b1-fcdec94245c6')\"\n",
              "              title=\"Convert this dataframe to an interactive table.\"\n",
              "              style=\"display:none;\">\n",
              "        \n",
              "  <svg xmlns=\"http://www.w3.org/2000/svg\" height=\"24px\"viewBox=\"0 0 24 24\"\n",
              "       width=\"24px\">\n",
              "    <path d=\"M0 0h24v24H0V0z\" fill=\"none\"/>\n",
              "    <path d=\"M18.56 5.44l.94 2.06.94-2.06 2.06-.94-2.06-.94-.94-2.06-.94 2.06-2.06.94zm-11 1L8.5 8.5l.94-2.06 2.06-.94-2.06-.94L8.5 2.5l-.94 2.06-2.06.94zm10 10l.94 2.06.94-2.06 2.06-.94-2.06-.94-.94-2.06-.94 2.06-2.06.94z\"/><path d=\"M17.41 7.96l-1.37-1.37c-.4-.4-.92-.59-1.43-.59-.52 0-1.04.2-1.43.59L10.3 9.45l-7.72 7.72c-.78.78-.78 2.05 0 2.83L4 21.41c.39.39.9.59 1.41.59.51 0 1.02-.2 1.41-.59l7.78-7.78 2.81-2.81c.8-.78.8-2.07 0-2.86zM5.41 20L4 18.59l7.72-7.72 1.47 1.35L5.41 20z\"/>\n",
              "  </svg>\n",
              "      </button>\n",
              "      \n",
              "  <style>\n",
              "    .colab-df-container {\n",
              "      display:flex;\n",
              "      flex-wrap:wrap;\n",
              "      gap: 12px;\n",
              "    }\n",
              "\n",
              "    .colab-df-convert {\n",
              "      background-color: #E8F0FE;\n",
              "      border: none;\n",
              "      border-radius: 50%;\n",
              "      cursor: pointer;\n",
              "      display: none;\n",
              "      fill: #1967D2;\n",
              "      height: 32px;\n",
              "      padding: 0 0 0 0;\n",
              "      width: 32px;\n",
              "    }\n",
              "\n",
              "    .colab-df-convert:hover {\n",
              "      background-color: #E2EBFA;\n",
              "      box-shadow: 0px 1px 2px rgba(60, 64, 67, 0.3), 0px 1px 3px 1px rgba(60, 64, 67, 0.15);\n",
              "      fill: #174EA6;\n",
              "    }\n",
              "\n",
              "    [theme=dark] .colab-df-convert {\n",
              "      background-color: #3B4455;\n",
              "      fill: #D2E3FC;\n",
              "    }\n",
              "\n",
              "    [theme=dark] .colab-df-convert:hover {\n",
              "      background-color: #434B5C;\n",
              "      box-shadow: 0px 1px 3px 1px rgba(0, 0, 0, 0.15);\n",
              "      filter: drop-shadow(0px 1px 2px rgba(0, 0, 0, 0.3));\n",
              "      fill: #FFFFFF;\n",
              "    }\n",
              "  </style>\n",
              "\n",
              "      <script>\n",
              "        const buttonEl =\n",
              "          document.querySelector('#df-07eabf2d-f66d-46a7-81b1-fcdec94245c6 button.colab-df-convert');\n",
              "        buttonEl.style.display =\n",
              "          google.colab.kernel.accessAllowed ? 'block' : 'none';\n",
              "\n",
              "        async function convertToInteractive(key) {\n",
              "          const element = document.querySelector('#df-07eabf2d-f66d-46a7-81b1-fcdec94245c6');\n",
              "          const dataTable =\n",
              "            await google.colab.kernel.invokeFunction('convertToInteractive',\n",
              "                                                     [key], {});\n",
              "          if (!dataTable) return;\n",
              "\n",
              "          const docLinkHtml = 'Like what you see? Visit the ' +\n",
              "            '<a target=\"_blank\" href=https://colab.research.google.com/notebooks/data_table.ipynb>data table notebook</a>'\n",
              "            + ' to learn more about interactive tables.';\n",
              "          element.innerHTML = '';\n",
              "          dataTable['output_type'] = 'display_data';\n",
              "          await google.colab.output.renderOutput(dataTable, element);\n",
              "          const docLink = document.createElement('div');\n",
              "          docLink.innerHTML = docLinkHtml;\n",
              "          element.appendChild(docLink);\n",
              "        }\n",
              "      </script>\n",
              "    </div>\n",
              "  </div>\n",
              "  "
            ]
          },
          "metadata": {},
          "execution_count": 28
        }
      ]
    },
    {
      "cell_type": "code",
      "source": [
        "from sklearn.metrics import mean_squared_error\n",
        "\n",
        "mean_squared_error(y_test,y_pred)"
      ],
      "metadata": {
        "colab": {
          "base_uri": "https://localhost:8080/"
        },
        "id": "YfY2ZpJ2ZJ6U",
        "outputId": "a11538a3-6d28-444d-e7f8-e91a34616871"
      },
      "execution_count": null,
      "outputs": [
        {
          "output_type": "execute_result",
          "data": {
            "text/plain": [
              "8.377951445922687"
            ]
          },
          "metadata": {},
          "execution_count": 29
        }
      ]
    },
    {
      "cell_type": "code",
      "source": [
        "def timeseries_evaluation_metrics_func(y_true, y_pred):\n",
        "\n",
        "    def mean_absolute_percentage_error(y_true, y_pred):\n",
        "        y_true, y_pred = np.array(y_true), np.array(y_pred)\n",
        "        return np.mean(np.abs((y_true - y_pred) / y_true)) * 100\n",
        "    print('Evaluation metric results:-')\n",
        "    print(f'MSE is : {metrics.mean_squared_error(y_true, y_pred)}')\n",
        "    print(f'MAE is : {metrics.mean_absolute_error(y_true, y_pred)}')\n",
        "    print(f'RMSE is : {np.sqrt(metrics.mean_squared_error(y_true, y_pred))}')\n",
        "    print(f'MAPE is : {mean_absolute_percentage_error(y_true, y_pred)}')\n",
        "    print(f'R2 is : {metrics.r2_score(y_true, y_pred)}',end='\\n\\n')\n",
        "\n",
        "timeseries_evaluation_metrics_func(y_test, y_pred)"
      ],
      "metadata": {
        "colab": {
          "base_uri": "https://localhost:8080/"
        },
        "id": "6NIOrIjkgw5B",
        "outputId": "48c57358-426a-45e1-c2de-f03c71330ccc"
      },
      "execution_count": null,
      "outputs": [
        {
          "output_type": "stream",
          "name": "stdout",
          "text": [
            "Evaluation metric results:-\n",
            "MSE is : 8.377951445922687\n",
            "MAE is : 1.9807257579852404\n",
            "RMSE is : 2.894469112967469\n",
            "MAPE is : 158.89644829338815\n",
            "R2 is : 0.993474059900318\n",
            "\n"
          ]
        }
      ]
    },
    {
      "cell_type": "markdown",
      "source": [
        "### Plot the figure with predicted values"
      ],
      "metadata": {
        "id": "JGnjGsn7XgJC"
      }
    },
    {
      "cell_type": "code",
      "source": [
        "import matplotlib.pyplot as plt\n",
        "\n",
        "fig, (real, pred) = plt.subplots(1, 2, figsize=(20,7))\n",
        "\n",
        "real.plot(y_test)\n",
        "real.set_title(\"Real Values\")\n",
        "\n",
        "pred.plot(y_pred, color=\"orange\")\n",
        "pred.set_title(\"Predicted Values\")\n",
        "\n",
        "plt.show()"
      ],
      "metadata": {
        "id": "KBUib3-CY_zq",
        "colab": {
          "base_uri": "https://localhost:8080/",
          "height": 428
        },
        "outputId": "a71aa9f1-e6f1-4266-f8a4-c858a0927788"
      },
      "execution_count": null,
      "outputs": [
        {
          "output_type": "display_data",
          "data": {
            "text/plain": [
              "<Figure size 1440x504 with 2 Axes>"
            ],
            "image/png": "[encoded data removed]"
          },
          "metadata": {
            "needs_background": "light"
          }
        }
      ]
    },
    {
      "cell_type": "code",
      "source": [],
      "metadata": {
        "id": "BD8FOv-gV1oQ"
      },
      "execution_count": null,
      "outputs": []
    }
  ]
}